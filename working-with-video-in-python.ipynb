{
 "cells": [
  {
   "cell_type": "markdown",
   "metadata": {
    "_cell_guid": "b1076dfc-b9ad-4769-8c92-a6c4dae69d19",
    "_uuid": "8f2839f25d086af736a60e9eeb907d3b93b6e0e5"
   },
   "source": [
    "# Working with Video Data in Python\n",
    "\n",
    "This notebook was created in the [YouTube tutorial that you can find here](https://youtu.be/AxIc-vGaHQ0)!!\n",
    "\n",
    "\n",
    "- What you will learn:\n",
    "    - What is video data?\n",
    "    - Converting between video formats\n",
    "    - Pulling metadata from video file.\n",
    "    - How to open a video file and extract images using cv2 (openCV).\n",
    "    - Adding annotations to video frames.\n",
    "    - Saving edited video."
   ]
  },
  {
   "cell_type": "markdown",
   "metadata": {},
   "source": [
    "# What is video data?\n",
    "Simply put, video data is a series of images that when shown in sucession give the illusion of motion. Like a flipbook!\n",
    "\n",
    "<img src=\"https://i.imgur.com/Rx9R3Hf.jpg\" width=\"500\" height=\"500\" />\n",
    "\n",
    "\n"
   ]
  },
  {
   "cell_type": "markdown",
   "metadata": {},
   "source": [
    "## Video resolution\n",
    "Video resolution is the size of each image in the video. It doesn't need to be a standard size, but there are common sizes for video.\n",
    "\n",
    "<img src=\"https://i.imgur.com/CUo7rGb.png\" width=\"500\" height=\"500\" />"
   ]
  },
  {
   "cell_type": "markdown",
   "metadata": {},
   "source": [
    "## What is frame rate?\n",
    "\n",
    "Frame rate determines the number of \"images\" seen per second. Can be described as fps (frames per second) or Hz (general unit for frequency)\n",
    "\n",
    "<img src=\"https://i.imgur.com/uSOX932.jpg\" width=\"500\" height=\"500\" />"
   ]
  },
  {
   "cell_type": "markdown",
   "metadata": {},
   "source": [
    "# Getting Setup for working with Video in Python\n",
    "Packages you'll need installed:\n",
    "- opencv / cv2 : `pip install opencv-python`\n",
    "- matplotlib : `pip install matplotlib`\n",
    "- ffmpeg (for converting videos)"
   ]
  },
  {
   "cell_type": "code",
   "execution_count": null,
   "metadata": {
    "execution": {
     "iopub.execute_input": "2022-06-02T14:17:36.656612Z",
     "iopub.status.busy": "2022-06-02T14:17:36.655607Z",
     "iopub.status.idle": "2022-06-02T14:17:36.663017Z",
     "shell.execute_reply": "2022-06-02T14:17:36.662029Z",
     "shell.execute_reply.started": "2022-06-02T14:17:36.656544Z"
    }
   },
   "outputs": [],
   "source": [
    "import pandas as pd\n",
    "import numpy as np\n",
    "import cv2\n",
    "import matplotlib.pyplot as plt\n",
    "\n",
    "from glob import glob\n",
    "\n",
    "import IPython.display as ipd\n",
    "from tqdm import tqdm\n",
    "\n",
    "import subprocess\n",
    "\n",
    "plt.style.use('ggplot')"
   ]
  },
  {
   "cell_type": "markdown",
   "metadata": {},
   "source": [
    "# Converting video types\n",
    "Use ffmpeg to convert mov to mp4. Read more in the documentation here: https://ffmpeg.org/ffmpeg.html"
   ]
  },
  {
   "cell_type": "code",
   "execution_count": null,
   "metadata": {
    "execution": {
     "iopub.execute_input": "2022-06-02T13:40:48.374339Z",
     "iopub.status.busy": "2022-06-02T13:40:48.373518Z",
     "iopub.status.idle": "2022-06-02T13:41:44.455645Z",
     "shell.execute_reply": "2022-06-02T13:41:44.454653Z",
     "shell.execute_reply.started": "2022-06-02T13:40:48.374289Z"
    }
   },
   "outputs": [],
   "source": [
    "input_file = '../input/driving-video-with-object-tracking/bdd100k_videos_train_00/bdd100k/videos/train/026c7465-309f6d33.mov'\n",
    "subprocess.run(['ffmpeg',\n",
    "                '-i',\n",
    "                input_file,\n",
    "                '-qscale',\n",
    "                '0',\n",
    "                '026c7465-309f6d33.mp4',\n",
    "                '-loglevel',\n",
    "                'quiet']\n",
    "              )"
   ]
  },
  {
   "cell_type": "code",
   "execution_count": null,
   "metadata": {
    "execution": {
     "iopub.execute_input": "2022-06-02T13:41:44.458468Z",
     "iopub.status.busy": "2022-06-02T13:41:44.457484Z",
     "iopub.status.idle": "2022-06-02T13:41:45.217443Z",
     "shell.execute_reply": "2022-06-02T13:41:45.216093Z",
     "shell.execute_reply.started": "2022-06-02T13:41:44.458423Z"
    }
   },
   "outputs": [],
   "source": [
    "!ls -GFlash --color"
   ]
  },
  {
   "cell_type": "markdown",
   "metadata": {},
   "source": [
    "# Display Video in Notebook"
   ]
  },
  {
   "cell_type": "code",
   "execution_count": null,
   "metadata": {
    "execution": {
     "iopub.execute_input": "2022-06-02T13:43:28.451431Z",
     "iopub.status.busy": "2022-06-02T13:43:28.451019Z",
     "iopub.status.idle": "2022-06-02T13:43:28.458509Z",
     "shell.execute_reply": "2022-06-02T13:43:28.457777Z",
     "shell.execute_reply.started": "2022-06-02T13:43:28.4514Z"
    }
   },
   "outputs": [],
   "source": [
    "ipd.Video('026c7465-309f6d33.mp4', width=700)"
   ]
  },
  {
   "cell_type": "markdown",
   "metadata": {},
   "source": [
    "# Open the Video and Read Metadata"
   ]
  },
  {
   "cell_type": "code",
   "execution_count": null,
   "metadata": {
    "execution": {
     "iopub.execute_input": "2022-06-02T13:44:48.175814Z",
     "iopub.status.busy": "2022-06-02T13:44:48.175399Z",
     "iopub.status.idle": "2022-06-02T13:44:48.264173Z",
     "shell.execute_reply": "2022-06-02T13:44:48.263201Z",
     "shell.execute_reply.started": "2022-06-02T13:44:48.175781Z"
    }
   },
   "outputs": [],
   "source": [
    "# Load in video capture\n",
    "cap = cv2.VideoCapture('026c7465-309f6d33.mp4')"
   ]
  },
  {
   "cell_type": "code",
   "execution_count": null,
   "metadata": {
    "execution": {
     "iopub.execute_input": "2022-06-02T13:45:51.487042Z",
     "iopub.status.busy": "2022-06-02T13:45:51.486427Z",
     "iopub.status.idle": "2022-06-02T13:45:51.493754Z",
     "shell.execute_reply": "2022-06-02T13:45:51.493005Z",
     "shell.execute_reply.started": "2022-06-02T13:45:51.486994Z"
    }
   },
   "outputs": [],
   "source": [
    "# Total number of frames in video\n",
    "cap.get(cv2.cv2.CAP_PROP_FRAME_COUNT)"
   ]
  },
  {
   "cell_type": "code",
   "execution_count": null,
   "metadata": {
    "execution": {
     "iopub.execute_input": "2022-06-02T13:47:09.410029Z",
     "iopub.status.busy": "2022-06-02T13:47:09.409614Z",
     "iopub.status.idle": "2022-06-02T13:47:09.416617Z",
     "shell.execute_reply": "2022-06-02T13:47:09.415417Z",
     "shell.execute_reply.started": "2022-06-02T13:47:09.409998Z"
    }
   },
   "outputs": [],
   "source": [
    "# Video height and width\n",
    "height = cap.get(cv2.cv2.CAP_PROP_FRAME_HEIGHT)\n",
    "width = cap.get(cv2.cv2.CAP_PROP_FRAME_WIDTH)\n",
    "print(f'Height {height}, Width {width}')"
   ]
  },
  {
   "cell_type": "code",
   "execution_count": null,
   "metadata": {
    "execution": {
     "iopub.execute_input": "2022-06-02T13:47:58.984326Z",
     "iopub.status.busy": "2022-06-02T13:47:58.983909Z",
     "iopub.status.idle": "2022-06-02T13:47:58.990273Z",
     "shell.execute_reply": "2022-06-02T13:47:58.989195Z",
     "shell.execute_reply.started": "2022-06-02T13:47:58.984294Z"
    }
   },
   "outputs": [],
   "source": [
    "# Get frames per second\n",
    "fps = cap.get(cv2.cv2.CAP_PROP_FPS)\n",
    "print(f'FPS : {fps:0.2f}')"
   ]
  },
  {
   "cell_type": "code",
   "execution_count": null,
   "metadata": {
    "execution": {
     "iopub.execute_input": "2022-06-02T13:48:34.883238Z",
     "iopub.status.busy": "2022-06-02T13:48:34.882819Z",
     "iopub.status.idle": "2022-06-02T13:48:34.888053Z",
     "shell.execute_reply": "2022-06-02T13:48:34.887166Z",
     "shell.execute_reply.started": "2022-06-02T13:48:34.883205Z"
    }
   },
   "outputs": [],
   "source": [
    "cap.release()"
   ]
  },
  {
   "cell_type": "markdown",
   "metadata": {},
   "source": [
    "# Pulling in Images from Video"
   ]
  },
  {
   "cell_type": "code",
   "execution_count": null,
   "metadata": {
    "execution": {
     "iopub.execute_input": "2022-06-02T13:49:54.044819Z",
     "iopub.status.busy": "2022-06-02T13:49:54.044264Z",
     "iopub.status.idle": "2022-06-02T13:49:54.08977Z",
     "shell.execute_reply": "2022-06-02T13:49:54.088685Z",
     "shell.execute_reply.started": "2022-06-02T13:49:54.044772Z"
    }
   },
   "outputs": [],
   "source": [
    "cap = cv2.VideoCapture('026c7465-309f6d33.mp4')\n",
    "ret, img = cap.read()\n",
    "print(f'Returned {ret} and img of shape {img.shape}')"
   ]
  },
  {
   "cell_type": "code",
   "execution_count": null,
   "metadata": {
    "execution": {
     "iopub.execute_input": "2022-06-02T13:51:48.391028Z",
     "iopub.status.busy": "2022-06-02T13:51:48.390499Z",
     "iopub.status.idle": "2022-06-02T13:51:48.397615Z",
     "shell.execute_reply": "2022-06-02T13:51:48.396801Z",
     "shell.execute_reply.started": "2022-06-02T13:51:48.390988Z"
    }
   },
   "outputs": [],
   "source": [
    "## Helper function for plotting opencv images in notebook\n",
    "def display_cv2_img(img, figsize=(10, 10)):\n",
    "    img_ = cv2.cvtColor(img, cv2.COLOR_BGR2RGB)\n",
    "    fig, ax = plt.subplots(figsize=figsize)\n",
    "    ax.imshow(img_)\n",
    "    ax.axis(\"off\")"
   ]
  },
  {
   "cell_type": "code",
   "execution_count": null,
   "metadata": {
    "execution": {
     "iopub.execute_input": "2022-06-02T13:51:54.070931Z",
     "iopub.status.busy": "2022-06-02T13:51:54.069651Z",
     "iopub.status.idle": "2022-06-02T13:51:54.423318Z",
     "shell.execute_reply": "2022-06-02T13:51:54.419657Z",
     "shell.execute_reply.started": "2022-06-02T13:51:54.070883Z"
    }
   },
   "outputs": [],
   "source": [
    "display_cv2_img(img)"
   ]
  },
  {
   "cell_type": "code",
   "execution_count": null,
   "metadata": {
    "execution": {
     "iopub.execute_input": "2022-06-02T13:52:27.576764Z",
     "iopub.status.busy": "2022-06-02T13:52:27.575828Z",
     "iopub.status.idle": "2022-06-02T13:52:27.581819Z",
     "shell.execute_reply": "2022-06-02T13:52:27.580926Z",
     "shell.execute_reply.started": "2022-06-02T13:52:27.576715Z"
    }
   },
   "outputs": [],
   "source": [
    "cap.release()"
   ]
  },
  {
   "cell_type": "markdown",
   "metadata": {},
   "source": [
    "# Display multiple frames from the video"
   ]
  },
  {
   "cell_type": "code",
   "execution_count": null,
   "metadata": {
    "execution": {
     "iopub.execute_input": "2022-06-02T13:57:58.643556Z",
     "iopub.status.busy": "2022-06-02T13:57:58.643124Z",
     "iopub.status.idle": "2022-06-02T13:58:09.908594Z",
     "shell.execute_reply": "2022-06-02T13:58:09.907793Z",
     "shell.execute_reply.started": "2022-06-02T13:57:58.643525Z"
    }
   },
   "outputs": [],
   "source": [
    "fig, axs = plt.subplots(5, 5, figsize=(30, 20))\n",
    "axs = axs.flatten()\n",
    "\n",
    "cap = cv2.VideoCapture(\"026c7465-309f6d33.mp4\")\n",
    "n_frames = int(cap.get(cv2.cv2.CAP_PROP_FRAME_COUNT))\n",
    "\n",
    "img_idx = 0\n",
    "for frame in range(n_frames):\n",
    "    ret, img = cap.read()\n",
    "    if ret == False:\n",
    "        break\n",
    "    if frame % 100 == 0:\n",
    "        axs[img_idx].imshow(cv2.cvtColor(img, cv2.COLOR_BGR2RGB))\n",
    "        axs[img_idx].set_title(f'Frame: {frame}')\n",
    "        axs[img_idx].axis('off')\n",
    "        img_idx += 1\n",
    "\n",
    "plt.tight_layout()\n",
    "plt.show()\n",
    "cap.release()"
   ]
  },
  {
   "cell_type": "markdown",
   "metadata": {},
   "source": [
    "# Add Annotations to Video Images"
   ]
  },
  {
   "cell_type": "code",
   "execution_count": null,
   "metadata": {
    "execution": {
     "iopub.execute_input": "2022-06-02T14:00:26.227231Z",
     "iopub.status.busy": "2022-06-02T14:00:26.226785Z",
     "iopub.status.idle": "2022-06-02T14:00:33.604542Z",
     "shell.execute_reply": "2022-06-02T14:00:33.603452Z",
     "shell.execute_reply.started": "2022-06-02T14:00:26.227185Z"
    }
   },
   "outputs": [],
   "source": [
    "labels = pd.read_csv('../input/driving-video-with-object-tracking/mot_labels.csv',\n",
    "                     low_memory=False)\n",
    "video_labels = (\n",
    "    labels.query('videoName == \"026c7465-309f6d33\"').reset_index(drop=True).copy()\n",
    ")\n",
    "video_labels[\"video_frame\"] = (video_labels[\"frameIndex\"] * 11.9).round().astype(\"int\")"
   ]
  },
  {
   "cell_type": "code",
   "execution_count": null,
   "metadata": {
    "execution": {
     "iopub.execute_input": "2022-06-02T14:03:13.348174Z",
     "iopub.status.busy": "2022-06-02T14:03:13.347747Z",
     "iopub.status.idle": "2022-06-02T14:03:13.358329Z",
     "shell.execute_reply": "2022-06-02T14:03:13.357123Z",
     "shell.execute_reply.started": "2022-06-02T14:03:13.34814Z"
    }
   },
   "outputs": [],
   "source": [
    "video_labels[\"category\"].value_counts()"
   ]
  },
  {
   "cell_type": "code",
   "execution_count": null,
   "metadata": {
    "execution": {
     "iopub.execute_input": "2022-06-02T14:09:16.867522Z",
     "iopub.status.busy": "2022-06-02T14:09:16.867054Z",
     "iopub.status.idle": "2022-06-02T14:09:19.721372Z",
     "shell.execute_reply": "2022-06-02T14:09:19.720403Z",
     "shell.execute_reply.started": "2022-06-02T14:09:16.867489Z"
    }
   },
   "outputs": [],
   "source": [
    "# Pull frame 1035\n",
    "\n",
    "cap = cv2.VideoCapture(\"026c7465-309f6d33.mp4\")\n",
    "n_frames = int(cap.get(cv2.cv2.CAP_PROP_FRAME_COUNT))\n",
    "\n",
    "img_idx = 0\n",
    "for frame in range(n_frames):\n",
    "    ret, img = cap.read()\n",
    "    if ret == False:\n",
    "        break\n",
    "    if frame == 1035:\n",
    "        break\n",
    "cap.release()"
   ]
  },
  {
   "cell_type": "code",
   "execution_count": null,
   "metadata": {
    "execution": {
     "iopub.execute_input": "2022-06-02T14:09:19.723855Z",
     "iopub.status.busy": "2022-06-02T14:09:19.723381Z",
     "iopub.status.idle": "2022-06-02T14:09:20.027205Z",
     "shell.execute_reply": "2022-06-02T14:09:20.024833Z",
     "shell.execute_reply.started": "2022-06-02T14:09:19.723809Z"
    }
   },
   "outputs": [],
   "source": [
    "display_cv2_img(img)"
   ]
  },
  {
   "cell_type": "code",
   "execution_count": null,
   "metadata": {
    "execution": {
     "iopub.execute_input": "2022-06-02T14:09:20.02982Z",
     "iopub.status.busy": "2022-06-02T14:09:20.028762Z",
     "iopub.status.idle": "2022-06-02T14:09:20.359391Z",
     "shell.execute_reply": "2022-06-02T14:09:20.35854Z",
     "shell.execute_reply.started": "2022-06-02T14:09:20.029778Z"
    }
   },
   "outputs": [],
   "source": [
    "img_example = img.copy()\n",
    "frame_labels = video_labels.query('video_frame == 1035')\n",
    "for i, d in frame_labels.iterrows():\n",
    "    pt1 = int(d['box2d.x1']), int(d['box2d.y1'])\n",
    "    pt2 = int(d['box2d.x2']), int(d['box2d.y2'])\n",
    "    cv2.rectangle(img_example, pt1, pt2, (0, 0, 255), 3)\n",
    "\n",
    "display_cv2_img(img_example)"
   ]
  },
  {
   "cell_type": "markdown",
   "metadata": {},
   "source": [
    "# Displaying Colored by Category"
   ]
  },
  {
   "cell_type": "code",
   "execution_count": null,
   "metadata": {
    "execution": {
     "iopub.execute_input": "2022-06-02T14:10:15.551718Z",
     "iopub.status.busy": "2022-06-02T14:10:15.550438Z",
     "iopub.status.idle": "2022-06-02T14:10:15.889324Z",
     "shell.execute_reply": "2022-06-02T14:10:15.885822Z",
     "shell.execute_reply.started": "2022-06-02T14:10:15.55166Z"
    }
   },
   "outputs": [],
   "source": [
    "color_map = {\n",
    "    \"car\": (0, 0, 255),\n",
    "    \"truck\": (0, 0, 100),\n",
    "    \"pedestrian\": (255, 0, 0),\n",
    "    \"other vehicle\": (0, 0, 150),\n",
    "    \"rider\": (200, 0, 0),\n",
    "    \"bicycle\": (0, 255, 0),\n",
    "    \"other person\": (200, 0, 0),\n",
    "    \"trailer\": (0, 150, 150),\n",
    "    \"motorcycle\": (0, 150, 0),\n",
    "    \"bus\": (0, 0, 100),\n",
    "}\n",
    "\n",
    "img_example = img.copy()\n",
    "frame_labels = video_labels.query('video_frame == 1035')\n",
    "for i, d in frame_labels.iterrows():\n",
    "    pt1 = int(d['box2d.x1']), int(d['box2d.y1'])\n",
    "    pt2 = int(d['box2d.x2']), int(d['box2d.y2'])\n",
    "    color = color_map[d['category']]\n",
    "    cv2.rectangle(img_example, pt1, pt2, color, 3)\n",
    "\n",
    "display_cv2_img(img_example)"
   ]
  },
  {
   "cell_type": "markdown",
   "metadata": {},
   "source": [
    "## Adding Text"
   ]
  },
  {
   "cell_type": "code",
   "execution_count": null,
   "metadata": {
    "execution": {
     "iopub.execute_input": "2022-06-02T14:13:42.800905Z",
     "iopub.status.busy": "2022-06-02T14:13:42.800459Z",
     "iopub.status.idle": "2022-06-02T14:13:43.142536Z",
     "shell.execute_reply": "2022-06-02T14:13:43.141609Z",
     "shell.execute_reply.started": "2022-06-02T14:13:42.80087Z"
    }
   },
   "outputs": [],
   "source": [
    "frame_labels = video_labels.query(\"video_frame == @frame\")\n",
    "font = cv2.FONT_HERSHEY_TRIPLEX\n",
    "img_example = img.copy()\n",
    "for i, d in frame_labels.iterrows():\n",
    "    pt1 = int(d[\"box2d.x1\"]), int(d[\"box2d.y1\"])\n",
    "    pt2 = int(d[\"box2d.x2\"]), int(d[\"box2d.y2\"])\n",
    "    color = color_map[d[\"category\"]]\n",
    "    img_example = cv2.rectangle(img_example, pt1, pt2, color, 3)\n",
    "    pt_text = int(d[\"box2d.x1\"]) + 5, int(d[\"box2d.y1\"] + 10)\n",
    "    img_example = cv2.putText(img_example, d[\"category\"], pt_text, font, 0.5, color)\n",
    "display_cv2_img(img_example)\n",
    "cap.release()"
   ]
  },
  {
   "cell_type": "markdown",
   "metadata": {},
   "source": [
    "# Label and output Annotated Video"
   ]
  },
  {
   "cell_type": "code",
   "execution_count": null,
   "metadata": {
    "execution": {
     "iopub.execute_input": "2022-06-02T14:13:30.681421Z",
     "iopub.status.busy": "2022-06-02T14:13:30.680931Z",
     "iopub.status.idle": "2022-06-02T14:13:30.68983Z",
     "shell.execute_reply": "2022-06-02T14:13:30.688731Z",
     "shell.execute_reply.started": "2022-06-02T14:13:30.681385Z"
    }
   },
   "outputs": [],
   "source": [
    "def add_annotations(img, frame, video_labels):\n",
    "    max_frame = video_labels.query(\"video_frame <= @frame\")[\"video_frame\"].max()\n",
    "    frame_labels = video_labels.query(\"video_frame == @max_frame\")\n",
    "    for i, d in frame_labels.iterrows():\n",
    "        pt1 = int(d[\"box2d.x1\"]), int(d[\"box2d.y1\"])\n",
    "        pt2 = int(d[\"box2d.x2\"]), int(d[\"box2d.y2\"])\n",
    "        color = color_map[d[\"category\"]]\n",
    "        img = cv2.rectangle(img, pt1, pt2, color, 3)\n",
    "    return img"
   ]
  },
  {
   "cell_type": "code",
   "execution_count": null,
   "metadata": {
    "execution": {
     "iopub.execute_input": "2022-06-02T14:18:19.515942Z",
     "iopub.status.busy": "2022-06-02T14:18:19.515496Z",
     "iopub.status.idle": "2022-06-02T14:18:20.297962Z",
     "shell.execute_reply": "2022-06-02T14:18:20.296519Z",
     "shell.execute_reply.started": "2022-06-02T14:18:19.515909Z"
    }
   },
   "outputs": [],
   "source": [
    "!rm -r out_test.mp4"
   ]
  },
  {
   "cell_type": "code",
   "execution_count": null,
   "metadata": {
    "execution": {
     "iopub.execute_input": "2022-06-02T14:18:49.212026Z",
     "iopub.status.busy": "2022-06-02T14:18:49.211621Z",
     "iopub.status.idle": "2022-06-02T14:19:34.82404Z",
     "shell.execute_reply": "2022-06-02T14:19:34.8229Z",
     "shell.execute_reply.started": "2022-06-02T14:18:49.211995Z"
    }
   },
   "outputs": [],
   "source": [
    "VIDEO_CODEC = \"mp4v\"\n",
    "fps = 59.94\n",
    "width = 1280\n",
    "height = 720\n",
    "out = cv2.VideoWriter(\"out_test.mp4\",\n",
    "                cv2.VideoWriter_fourcc(*VIDEO_CODEC),\n",
    "                fps,\n",
    "                (width, height))\n",
    "\n",
    "cap = cv2.VideoCapture(\"026c7465-309f6d33.mp4\")\n",
    "n_frames = int(cap.get(cv2.cv2.CAP_PROP_FRAME_COUNT))\n",
    "\n",
    "for frame in tqdm(range(n_frames), total=n_frames):\n",
    "    ret, img = cap.read()\n",
    "    if ret == False:\n",
    "        break\n",
    "    img = add_annotations(img, frame, video_labels)\n",
    "    out.write(img)\n",
    "out.release()\n",
    "cap.release()"
   ]
  },
  {
   "cell_type": "code",
   "execution_count": null,
   "metadata": {
    "execution": {
     "iopub.execute_input": "2022-06-02T14:19:46.694088Z",
     "iopub.status.busy": "2022-06-02T14:19:46.693654Z",
     "iopub.status.idle": "2022-06-02T14:19:47.474181Z",
     "shell.execute_reply": "2022-06-02T14:19:47.472704Z",
     "shell.execute_reply.started": "2022-06-02T14:19:46.694056Z"
    }
   },
   "outputs": [],
   "source": [
    "!ls -GFlash -color"
   ]
  },
  {
   "cell_type": "markdown",
   "metadata": {},
   "source": [
    "# Convert our labeled output to mp4 and view"
   ]
  },
  {
   "cell_type": "code",
   "execution_count": null,
   "metadata": {
    "execution": {
     "iopub.execute_input": "2022-06-02T14:21:42.032881Z",
     "iopub.status.busy": "2022-06-02T14:21:42.03209Z",
     "iopub.status.idle": "2022-06-02T14:22:05.704886Z",
     "shell.execute_reply": "2022-06-02T14:22:05.703647Z",
     "shell.execute_reply.started": "2022-06-02T14:21:42.032816Z"
    }
   },
   "outputs": [],
   "source": [
    "tmp_output_path = \"out_test.mp4\"\n",
    "output_path = \"out_test_compressed.mp4\"\n",
    "subprocess.run(\n",
    "    [\n",
    "        \"ffmpeg\",\n",
    "        \"-i\",\n",
    "        tmp_output_path,\n",
    "        \"-crf\",\n",
    "        \"18\",\n",
    "        \"-preset\",\n",
    "        \"veryfast\",\n",
    "        \"-vcodec\",\n",
    "        \"libx264\",\n",
    "        output_path,\n",
    "        '-loglevel',\n",
    "        'quiet'\n",
    "    ]\n",
    ")"
   ]
  },
  {
   "cell_type": "code",
   "execution_count": null,
   "metadata": {
    "execution": {
     "iopub.execute_input": "2022-06-02T14:22:27.216478Z",
     "iopub.status.busy": "2022-06-02T14:22:27.215523Z",
     "iopub.status.idle": "2022-06-02T14:22:28.000404Z",
     "shell.execute_reply": "2022-06-02T14:22:27.999071Z",
     "shell.execute_reply.started": "2022-06-02T14:22:27.21643Z"
    }
   },
   "outputs": [],
   "source": [
    "!ls -GFlash --color"
   ]
  },
  {
   "cell_type": "code",
   "execution_count": null,
   "metadata": {
    "execution": {
     "iopub.execute_input": "2022-06-02T14:22:46.917125Z",
     "iopub.status.busy": "2022-06-02T14:22:46.916259Z",
     "iopub.status.idle": "2022-06-02T14:22:46.922827Z",
     "shell.execute_reply": "2022-06-02T14:22:46.921924Z",
     "shell.execute_reply.started": "2022-06-02T14:22:46.917089Z"
    }
   },
   "outputs": [],
   "source": [
    "ipd.Video('out_test_compressed.mp4', width=600)"
   ]
  },
  {
   "cell_type": "markdown",
   "metadata": {},
   "source": [
    "# The End"
   ]
  }
 ],
 "metadata": {
  "kernelspec": {
   "display_name": "Python 3 (ipykernel)",
   "language": "python",
   "name": "python3"
  },
  "language_info": {
   "codemirror_mode": {
    "name": "ipython",
    "version": 3
   },
   "file_extension": ".py",
   "mimetype": "text/x-python",
   "name": "python",
   "nbconvert_exporter": "python",
   "pygments_lexer": "ipython3",
   "version": "3.6.13"
  }
 },
 "nbformat": 4,
 "nbformat_minor": 4
}
